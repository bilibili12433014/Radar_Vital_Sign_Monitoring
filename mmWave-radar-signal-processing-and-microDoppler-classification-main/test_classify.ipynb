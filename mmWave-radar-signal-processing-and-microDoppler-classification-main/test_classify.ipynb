{
 "cells": [
  {
   "cell_type": "code",
   "execution_count": 1,
   "metadata": {
    "collapsed": true,
    "pycharm": {
     "is_executing": false
    }
   },
   "outputs": [],
   "source": [
    "from classifier.engine import load_data, test\n",
    "from config.classifier_config import test_sets"
   ]
  },
  {
   "cell_type": "code",
   "execution_count": 2,
   "outputs": [
    {
     "name": "stdout",
     "text": [
      "the batch number of testing set is  12\n",
      "[0, 0] loss: 0.0013673, accuracy: 1.0000000, used time: 2.60217\n[0, 1] loss: 0.0032858, accuracy: 1.0000000, used time: 0.07780\n[0, 2] loss: 0.9773253, accuracy: 0.0000000, used time: 0.07578\n",
      "[0, 3] loss: 0.0000069, accuracy: 1.0000000, used time: 0.08173\n[0, 4] loss: 0.0000254, accuracy: 1.0000000, used time: 0.08381\n[0, 5] loss: 0.0000000, accuracy: 1.0000000, used time: 0.07979\n",
      "[0, 6] loss: 0.0000000, accuracy: 1.0000000, used time: 0.08544\n[0, 7] loss: 0.0000000, accuracy: 1.0000000, used time: 0.08078\n[0, 8] loss: 0.0000000, accuracy: 1.0000000, used time: 0.07776\n",
      "[0, 9] loss: 0.0000000, accuracy: 1.0000000, used time: 0.07580\n[0, 10] loss: 0.0000008, accuracy: 1.0000000, used time: 0.07979\n[0, 11] loss: 0.0000000, accuracy: 1.0000000, used time: 0.07879\nEpoch 0: Accuracy training = 0.917, loss training = 0.00000\nTesting finished!\n"
     ],
     "output_type": "stream"
    }
   ],
   "source": [
    "# the loading model directory is sated in classifier_config\n",
    "test_set_data, test_set_labels = load_data(test_sets)\n",
    "test(test_set_data, test_set_labels)"
   ],
   "metadata": {
    "collapsed": false,
    "pycharm": {
     "name": "#%%\n",
     "is_executing": false
    }
   }
  }
 ],
 "metadata": {
  "kernelspec": {
   "display_name": "Python 3",
   "language": "python",
   "name": "python3"
  },
  "language_info": {
   "codemirror_mode": {
    "name": "ipython",
    "version": 2
   },
   "file_extension": ".py",
   "mimetype": "text/x-python",
   "name": "python",
   "nbconvert_exporter": "python",
   "pygments_lexer": "ipython2",
   "version": "2.7.6"
  },
  "pycharm": {
   "stem_cell": {
    "cell_type": "raw",
    "source": [],
    "metadata": {
     "collapsed": false
    }
   }
  }
 },
 "nbformat": 4,
 "nbformat_minor": 0
}