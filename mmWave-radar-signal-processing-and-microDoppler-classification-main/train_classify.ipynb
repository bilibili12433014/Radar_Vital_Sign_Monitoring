{
 "cells": [
  {
   "cell_type": "code",
   "execution_count": 4,
   "metadata": {
    "collapsed": true,
    "pycharm": {
     "is_executing": false,
     "name": "#%%\n"
    }
   },
   "outputs": [],
   "source": [
    "from classifier.engine import load_data, train\n",
    "from config.classifier_config import train_sets"
   ]
  },
  {
   "cell_type": "code",
   "execution_count": 5,
   "outputs": [
    {
     "name": "stdout",
     "text": [
      "the batch number of training set is  2\n",
      "[0, 0] loss: 1.1344182, accuracy: 0.0000000, used time: 0.64562\n",
      "[0, 1] loss: 1.2735345, accuracy: 0.2000000, used time: 0.47074\nEpoch 0: Accuracy training = 0.100, loss training = 0.63677\n",
      "[1, 0] loss: 0.9436623, accuracy: 0.6000000, used time: 0.47227\n",
      "[1, 1] loss: 1.0782218, accuracy: 0.2000000, used time: 0.46575\nEpoch 1: Accuracy training = 0.400, loss training = 0.53911\n",
      "[2, 0] loss: 0.9198198, accuracy: 0.6000000, used time: 0.46675\n",
      "[2, 1] loss: 0.9134321, accuracy: 1.0000000, used time: 0.47274\nEpoch 2: Accuracy training = 0.800, loss training = 0.45672\n",
      "[3, 0] loss: 0.9064317, accuracy: 0.8000000, used time: 0.46476\n",
      "[3, 1] loss: 0.7825287, accuracy: 1.0000000, used time: 0.46528\nEpoch 3: Accuracy training = 0.900, loss training = 0.39126\n",
      "[4, 0] loss: 0.8778355, accuracy: 0.8000000, used time: 0.46325\n",
      "[4, 1] loss: 0.6748438, accuracy: 1.0000000, used time: 0.47074\nEpoch 4: Accuracy training = 0.900, loss training = 0.33742\n",
      "[5, 0] loss: 0.8230026, accuracy: 0.8000000, used time: 0.46974\n",
      "[5, 1] loss: 0.5796930, accuracy: 1.0000000, used time: 0.47089\nEpoch 5: Accuracy training = 0.900, loss training = 0.28985\n",
      "[6, 0] loss: 0.7419039, accuracy: 0.8000000, used time: 0.47772\n",
      "[6, 1] loss: 0.4968319, accuracy: 1.0000000, used time: 0.47115\nEpoch 6: Accuracy training = 0.900, loss training = 0.24842\n",
      "[7, 0] loss: 0.6423361, accuracy: 0.8000000, used time: 0.46975\n",
      "[7, 1] loss: 0.4238104, accuracy: 1.0000000, used time: 0.47074\nEpoch 7: Accuracy training = 0.900, loss training = 0.21191\n",
      "[8, 0] loss: 0.5398608, accuracy: 0.8000000, used time: 0.46177\n",
      "[8, 1] loss: 0.3553179, accuracy: 1.0000000, used time: 0.47680\nEpoch 8: Accuracy training = 0.900, loss training = 0.17766\n",
      "[9, 0] loss: 0.4472264, accuracy: 0.8000000, used time: 0.47365\n",
      "[9, 1] loss: 0.2805653, accuracy: 1.0000000, used time: 0.46721\nEpoch 9: Accuracy training = 0.900, loss training = 0.14028\nTraining finished!\n"
     ],
     "output_type": "stream"
    }
   ],
   "source": [
    "train_set_data, train_set_labels = load_data(train_sets, if_shuffle=True)\n",
    "train(train_set_data, train_set_labels, if_save_model=False)  # enable if_save_model if want the trained model saved"
   ],
   "metadata": {
    "collapsed": false,
    "pycharm": {
     "name": "#%%\n",
     "is_executing": false
    }
   }
  }
 ],
 "metadata": {
  "kernelspec": {
   "display_name": "Python 3",
   "language": "python",
   "name": "python3"
  },
  "language_info": {
   "codemirror_mode": {
    "name": "ipython",
    "version": 2
   },
   "file_extension": ".py",
   "mimetype": "text/x-python",
   "name": "python",
   "nbconvert_exporter": "python",
   "pygments_lexer": "ipython2",
   "version": "2.7.6"
  },
  "pycharm": {
   "stem_cell": {
    "cell_type": "raw",
    "source": [],
    "metadata": {
     "collapsed": false
    }
   }
  }
 },
 "nbformat": 4,
 "nbformat_minor": 0
}